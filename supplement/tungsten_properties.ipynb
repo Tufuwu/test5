{
 "cells": [
  {
   "cell_type": "code",
   "execution_count": 1,
   "metadata": {
    "ExecuteTime": {
     "end_time": "2021-09-28T22:31:45.728645Z",
     "start_time": "2021-09-28T22:31:44.464595Z"
    }
   },
   "outputs": [],
   "source": [
    "import numpy as np\n",
    "import ase\n",
    "import spglib\n",
    "\n",
    "from ase import build\n",
    "from ase.build import supercells\n",
    "from ase.spacegroup import symmetrize as ase_symmetrize\n",
    "\n",
    "from uf3.data import composition\n",
    "from uf3.representation import bspline\n",
    "from uf3.regression import least_squares\n",
    "from uf3.forcefield import calculator\n",
    "from uf3.forcefield.properties import phonon\n",
    "\n",
    "from tqdm.auto import tqdm\n",
    "\n",
    "import matplotlib.pyplot as plt"
   ]
  },
  {
   "cell_type": "code",
   "execution_count": 2,
   "metadata": {
    "ExecuteTime": {
     "end_time": "2021-09-28T22:31:45.743814Z",
     "start_time": "2021-09-28T22:31:45.729744Z"
    }
   },
   "outputs": [],
   "source": [
    "import joblib"
   ]
  },
  {
   "cell_type": "markdown",
   "metadata": {},
   "source": [
    "# Demo parameters"
   ]
  },
  {
   "cell_type": "code",
   "execution_count": 3,
   "metadata": {
    "ExecuteTime": {
     "end_time": "2021-09-28T22:31:45.748075Z",
     "start_time": "2021-09-28T22:31:45.746298Z"
    }
   },
   "outputs": [],
   "source": [
    "filename = \"potentials/manuscript_uf23.json\""
   ]
  },
  {
   "cell_type": "code",
   "execution_count": 4,
   "metadata": {
    "ExecuteTime": {
     "end_time": "2021-09-28T22:31:45.750972Z",
     "start_time": "2021-09-28T22:31:45.749204Z"
    }
   },
   "outputs": [],
   "source": [
    "s = 4  # supercell factor"
   ]
  },
  {
   "cell_type": "markdown",
   "metadata": {},
   "source": [
    "# Load model"
   ]
  },
  {
   "cell_type": "code",
   "execution_count": 5,
   "metadata": {
    "ExecuteTime": {
     "end_time": "2021-09-28T22:31:45.754652Z",
     "start_time": "2021-09-28T22:31:45.751980Z"
    }
   },
   "outputs": [],
   "source": [
    "element_list = ['W']\n",
    "degree = 3\n",
    "\n",
    "chemical_system = composition.ChemicalSystem(element_list=element_list,\n",
    "                                             degree=degree)"
   ]
  },
  {
   "cell_type": "code",
   "execution_count": 6,
   "metadata": {
    "ExecuteTime": {
     "end_time": "2021-09-28T22:31:45.769110Z",
     "start_time": "2021-09-28T22:31:45.755489Z"
    }
   },
   "outputs": [],
   "source": [
    "r_min_map = {('W', 'W'): 1.5,\n",
    "             ('W', 'W', 'W'): [1.5, 1.5, 1.5]\n",
    "            }\n",
    "r_max_map = {('W', 'W'): 5.5,\n",
    "             ('W', 'W', 'W'): [4.25, 4.25, 8.5]\n",
    "            }\n",
    "resolution_map = {('W', 'W'): 25,\n",
    "                  ('W', 'W','W'): [10, 10, 20]\n",
    "                 }\n",
    "pair = (\"W\", \"W\")\n",
    "trio = (\"W\", \"W\", \"W\")\n",
    "\n",
    "bspline_config = bspline.BSplineBasis(chemical_system,\n",
    "                                      r_min_map=r_min_map,\n",
    "                                      r_max_map=r_max_map,\n",
    "                                      resolution_map=resolution_map,\n",
    "                                      trailing_trim=3,\n",
    "                                      mask_trim=True)"
   ]
  },
  {
   "cell_type": "code",
   "execution_count": 7,
   "metadata": {
    "ExecuteTime": {
     "end_time": "2021-09-28T22:31:45.918680Z",
     "start_time": "2021-09-28T22:31:45.770769Z"
    }
   },
   "outputs": [],
   "source": [
    "regularizer = bspline_config.get_regularization_matrix()\n",
    "model = least_squares.WeightedLinearModel(regularizer=regularizer,\n",
    "                                          bspline_config=bspline_config)\n",
    "model.load(filename=filename)"
   ]
  },
  {
   "cell_type": "code",
   "execution_count": 8,
   "metadata": {
    "ExecuteTime": {
     "end_time": "2021-09-28T22:31:45.923612Z",
     "start_time": "2021-09-28T22:31:45.920085Z"
    }
   },
   "outputs": [],
   "source": [
    "calc = calculator.UFCalculator(model)"
   ]
  },
  {
   "cell_type": "markdown",
   "metadata": {},
   "source": [
    "# Build BCC (2 atoms) and get lattice constant"
   ]
  },
  {
   "cell_type": "code",
   "execution_count": 9,
   "metadata": {
    "ExecuteTime": {
     "end_time": "2021-09-28T22:31:46.273561Z",
     "start_time": "2021-09-28T22:31:45.924989Z"
    }
   },
   "outputs": [
    {
     "data": {
      "application/vnd.jupyter.widget-view+json": {
       "model_id": "cce344207a0c4c97beecc259a7a5b417",
       "version_major": 2,
       "version_minor": 0
      },
      "text/plain": [
       "HBox(children=(HTML(value=''), FloatProgress(value=0.0, max=51.0), HTML(value='')))"
      ]
     },
     "metadata": {},
     "output_type": "display_data"
    },
    {
     "name": "stdout",
     "output_type": "stream",
     "text": [
      "\n"
     ]
    }
   ],
   "source": [
    "a_list = np.linspace(3.0, 3.4, 51)\n",
    "e_list = []\n",
    "for a in tqdm(a_list):\n",
    "    geom = build.bulk(\"W\", 'bcc', a=a, cubic=True)\n",
    "    geom.calc = calc\n",
    "    ee = geom.get_potential_energy()\n",
    "    e_list.append(ee)\n",
    "a0 = a_list[np.argmin(e_list)]"
   ]
  },
  {
   "cell_type": "code",
   "execution_count": 10,
   "metadata": {
    "ExecuteTime": {
     "end_time": "2021-09-28T22:31:46.401042Z",
     "start_time": "2021-09-28T22:31:46.274645Z"
    }
   },
   "outputs": [
    {
     "data": {
      "image/png": "[encoded data removed]",
      "text/plain": [
       "<Figure size 432x288 with 1 Axes>"
      ]
     },
     "metadata": {
      "needs_background": "light"
     },
     "output_type": "display_data"
    }
   ],
   "source": [
    "plt.scatter(a_list, e_list, color=\"mediumslateblue\")\n",
    "plt.xlabel(\"Lattice constant\")\n",
    "plt.ylabel(\"Total Energy (eV)\")\n",
    "plt.tight_layout()"
   ]
  },
  {
   "cell_type": "code",
   "execution_count": 11,
   "metadata": {
    "ExecuteTime": {
     "end_time": "2021-09-28T22:31:46.404553Z",
     "start_time": "2021-09-28T22:31:46.402047Z"
    }
   },
   "outputs": [
    {
     "name": "stdout",
     "output_type": "stream",
     "text": [
      "Lattice constant 3.176 angstroms\n"
     ]
    }
   ],
   "source": [
    "geom = build.bulk(\"W\", 'bcc', a=a0, cubic=True)\n",
    "print(f\"Lattice constant {a0:.3f} angstroms\")"
   ]
  },
  {
   "cell_type": "markdown",
   "metadata": {
    "pycharm": {
     "name": "#%% md\n"
    }
   },
   "source": [
    "# Get primitive cell (1 atom)"
   ]
  },
  {
   "cell_type": "code",
   "execution_count": 12,
   "metadata": {
    "ExecuteTime": {
     "end_time": "2021-09-28T22:31:46.413162Z",
     "start_time": "2021-09-28T22:31:46.405410Z"
    },
    "pycharm": {
     "name": "#%%\n"
    }
   },
   "outputs": [],
   "source": [
    "lattice, scaled_positions, numbers = spglib.standardize_cell(geom,\n",
    "                                                             to_primitive=True,\n",
    "                                                             no_idealize=False,\n",
    "                                                             symprec=1e-5)\n",
    "geom = ase.Atoms(cell=lattice,\n",
    "                 scaled_positions=scaled_positions,\n",
    "                 numbers=numbers,\n",
    "                 pbc=(True, True, True))"
   ]
  },
  {
   "cell_type": "markdown",
   "metadata": {},
   "source": [
    "# Get elastic constants"
   ]
  },
  {
   "cell_type": "code",
   "execution_count": 13,
   "metadata": {
    "ExecuteTime": {
     "end_time": "2021-09-28T22:31:47.638784Z",
     "start_time": "2021-09-28T22:31:46.414274Z"
    }
   },
   "outputs": [
    {
     "name": "stdout",
     "output_type": "stream",
     "text": [
      "Cij (GPa): [495.851 180.257 136.243]\n",
      "B: 280.779 (GPa)\n"
     ]
    }
   ],
   "source": [
    "elastic_constants = calc.get_elastic_constants(geom)\n",
    "with np.printoptions(3, suppress=True):\n",
    "    print(f\"Cij (GPa): {np.array(elastic_constants[:-1])}\")\n",
    "    print(f\"B: {elastic_constants[-1]:.3f} (GPa)\")"
   ]
  },
  {
   "cell_type": "markdown",
   "metadata": {
    "pycharm": {
     "name": "#%% md\n"
    }
   },
   "source": [
    "# Get Phonon Spectra"
   ]
  },
  {
   "cell_type": "code",
   "execution_count": 14,
   "metadata": {
    "ExecuteTime": {
     "end_time": "2021-09-28T22:31:49.142869Z",
     "start_time": "2021-09-28T22:31:47.640010Z"
    }
   },
   "outputs": [],
   "source": [
    "force_constants, path_data, bands_dict = calc.get_phonon_data(geom,\n",
    "                                                              n_super=s,\n",
    "                                                              disp=0.05)"
   ]
  },
  {
   "cell_type": "code",
   "execution_count": 15,
   "metadata": {
    "ExecuteTime": {
     "end_time": "2021-09-28T22:31:49.148157Z",
     "start_time": "2021-09-28T22:31:49.144108Z"
    },
    "pycharm": {
     "name": "#%%\n"
    }
   },
   "outputs": [],
   "source": [
    "dft_ref =[[[0.0000, 0.0000, 0.0000, 0.0000],\n",
    "           [0.1294, 3.8919, 3.8919, 5.8824],\n",
    "           [0.2593, 5.1683, 5.1683, 5.1683]],\n",
    "          [[0.2593, 5.1683, 5.1683, 5.1683],\n",
    "           [0.3656, 4.4492, 4.4492, 5.9732],\n",
    "           [0.4718, 3.5877, 4.3710, 6.4989]],\n",
    "          [[0.4718, 3.5877, 4.3710, 6.4989],\n",
    "           [0.5466, 2.9536, 2.9536, 4.7921],\n",
    "           [0.6213, 0.0000, 0.0000, 0.0000]],\n",
    "          [[0.6213, 0.0000, 0.0000, 0.0000],\n",
    "           [0.6861, 3.7003, 3.7003, 5.1450],\n",
    "           [0.751 , 5.3080, 5.3080, 5.3080]],\n",
    "          [[0.751 , 5.3080, 5.3080, 5.3080],\n",
    "           [0.8752, 5.1264, 5.6094, 5.6094],\n",
    "           [1.0000, 5.1531, 5.1531, 5.2941]],\n",
    "          [[1.0000, 5.1531, 5.1531, 5.2941],\n",
    "           [1.0641, 4.6197, 5.0059, 5.9081],\n",
    "           [1.1274, 3.5723, 4.3530, 6.4834]]]\n",
    "dft_ref = np.array(dft_ref)"
   ]
  },
  {
   "cell_type": "code",
   "execution_count": 16,
   "metadata": {
    "ExecuteTime": {
     "end_time": "2021-09-28T22:31:49.155475Z",
     "start_time": "2021-09-28T22:31:49.149712Z"
    },
    "pycharm": {
     "name": "#%%\n"
    }
   },
   "outputs": [
    {
     "name": "stdout",
     "output_type": "stream",
     "text": [
      "Phonon RMSE: 0.284 THz\n"
     ]
    }
   ],
   "source": [
    "distances = bands_dict['distances']\n",
    "frequencies = bands_dict['frequencies']\n",
    "\n",
    "targets = []\n",
    "predictions = []\n",
    "residuals = []\n",
    "for interval_idx in range(len(distances)):\n",
    "    target = dft_ref[interval_idx, :, 1:]\n",
    "    freq = frequencies[interval_idx]\n",
    "    mid_idx = int(len(freq)/2)\n",
    "    prediction = np.array([freq[0], freq[mid_idx], freq[-1]])\n",
    "    targets.append(np.sort(target.flatten()))\n",
    "    predictions.append(np.sort(prediction.flatten()))\n",
    "phonon_rmse = np.sqrt(np.mean(np.subtract(np.concatenate(targets), \n",
    "                                          np.concatenate(predictions))**2))\n",
    "print(f\"Phonon RMSE: {phonon_rmse:.3f} THz\")"
   ]
  },
  {
   "cell_type": "code",
   "execution_count": 17,
   "metadata": {
    "ExecuteTime": {
     "end_time": "2021-09-28T22:31:49.417767Z",
     "start_time": "2021-09-28T22:31:49.156891Z"
    }
   },
   "outputs": [
    {
     "data": {
      "text/plain": [
       "(0.0, 7.0)"
      ]
     },
     "execution_count": 17,
     "metadata": {},
     "output_type": "execute_result"
    },
    {
     "data": {
      "image/png": "[encoded data removed]",
      "text/plain": [
       "<Figure size 1050x600 with 1 Axes>"
      ]
     },
     "metadata": {
      "needs_background": "light"
     },
     "output_type": "display_data"
    }
   ],
   "source": [
    "fig, ax = phonon.plot_phonon_spectrum(path_data, \n",
    "                                      bands_dict, \n",
    "                                      color=\"mediumslateblue\")\n",
    "factor = distances[-1][-1]\n",
    "\n",
    "for interval_idx in range(len(distances)):\n",
    "    mid_idx = int(len(freq)/2)\n",
    "    wv = distances[interval_idx]\n",
    "    wv = [wv[0], wv[mid_idx], wv[-1]]\n",
    "    targets = dft_ref[interval_idx, :, 1:].flatten()\n",
    "    plt.scatter(np.repeat(wv, 3)/factor, \n",
    "                targets, \n",
    "                color='goldenrod', \n",
    "                s=5, \n",
    "                marker='s', \n",
    "                zorder=10)\n",
    "ax.set_xlim(0, 1)\n",
    "ax.set_ylim(0, 7)"
   ]
  },
  {
   "cell_type": "markdown",
   "metadata": {
    "pycharm": {
     "name": "#%% md\n"
    }
   },
   "source": [
    "# Compute vacancy formation energy"
   ]
  },
  {
   "cell_type": "code",
   "execution_count": 18,
   "metadata": {
    "ExecuteTime": {
     "end_time": "2021-09-28T22:31:49.648786Z",
     "start_time": "2021-09-28T22:31:49.418821Z"
    }
   },
   "outputs": [
    {
     "name": "stdout",
     "output_type": "stream",
     "text": [
      "Pristine energy: -11.194 eV/atom\n"
     ]
    }
   ],
   "source": [
    "bulk_geom = build.bulk(\"W\", 'bcc', a=a0, cubic=True)\n",
    "bulk_geom = supercells.make_supercell(bulk_geom, np.eye(3) * [s, s, s])\n",
    "bulk_geom.calc = calc\n",
    "pristine_energy = bulk_geom.get_potential_energy()[0] / len(bulk_geom)\n",
    "print(f\"Pristine energy: {pristine_energy:.3f} eV/atom\")"
   ]
  },
  {
   "cell_type": "code",
   "execution_count": 19,
   "metadata": {
    "ExecuteTime": {
     "end_time": "2021-09-28T22:32:36.012392Z",
     "start_time": "2021-09-28T22:31:49.649857Z"
    }
   },
   "outputs": [
    {
     "name": "stdout",
     "output_type": "stream",
     "text": [
      "                Step[ FC]     Time          Energy          fmax\n",
      "*Force-consistent energies used in optimization.\n",
      "BFGSLineSearch:    0[  2] 18:32:00     -778.141189*       0.1423\n",
      "BFGSLineSearch:    1[  5] 18:32:14     -778.166223*       0.0457\n",
      "BFGSLineSearch:    2[  8] 18:32:28     -778.167845*       0.0098\n",
      "Pristine energy: -11.194 eV/atom (relaxed)\n"
     ]
    }
   ],
   "source": [
    "bulk_geom.rattle(0.01)\n",
    "bulk_geom = calc.relax_fmax(bulk_geom, \n",
    "                            verbose=True, \n",
    "                            relax_cell=False, \n",
    "                            fmax=0.01, \n",
    "                            timeout=120)\n",
    "pristine_energy = bulk_geom.get_potential_energy()[0] / len(bulk_geom)\n",
    "print(f\"Pristine energy: {pristine_energy:.3f} eV/atom (relaxed)\")"
   ]
  },
  {
   "cell_type": "code",
   "execution_count": 20,
   "metadata": {
    "ExecuteTime": {
     "end_time": "2021-09-28T22:32:36.185998Z",
     "start_time": "2021-09-28T22:32:36.013428Z"
    }
   },
   "outputs": [
    {
     "name": "stdout",
     "output_type": "stream",
     "text": [
      "Defected energy: -1418.195 eV\n"
     ]
    }
   ],
   "source": [
    "defected_geom = bulk_geom.copy()\n",
    "half_cell = np.diag(bulk_geom.cell)/2.\n",
    "vac_atom = ((bulk_geom.positions - half_cell)**2).sum(axis=1).argmin()\n",
    "del defected_geom[vac_atom]\n",
    "defected_geom.calc = calc\n",
    "defected_energy = defected_geom.get_potential_energy()[0]\n",
    "print(f\"Defected energy: {defected_energy:.3f} eV\")"
   ]
  },
  {
   "cell_type": "code",
   "execution_count": 21,
   "metadata": {
    "ExecuteTime": {
     "end_time": "2021-09-28T22:32:36.189538Z",
     "start_time": "2021-09-28T22:32:36.187172Z"
    }
   },
   "outputs": [
    {
     "name": "stdout",
     "output_type": "stream",
     "text": [
      "Unrelaxed vacancy energy: 3.448 eV\n"
     ]
    }
   ],
   "source": [
    "vacancy_energy = (defected_energy - (pristine_energy * len(defected_geom)))\n",
    "print(f\"Unrelaxed vacancy energy: {vacancy_energy:.3f} eV\")"
   ]
  },
  {
   "cell_type": "code",
   "execution_count": 22,
   "metadata": {
    "ExecuteTime": {
     "end_time": "2021-09-28T22:33:35.235818Z",
     "start_time": "2021-09-28T22:32:36.191604Z"
    }
   },
   "outputs": [
    {
     "name": "stdout",
     "output_type": "stream",
     "text": [
      "                Step[ FC]     Time          Energy          fmax\n",
      "*Force-consistent energies used in optimization.\n",
      "BFGSLineSearch:    0[  2] 18:32:46     -768.800352*       0.2952\n",
      "BFGSLineSearch:    1[  6] 18:33:01     -768.859243*       0.0311\n",
      "BFGSLineSearch:    2[  8] 18:33:13     -768.860452*       0.0136\n",
      "BFGSLineSearch:    3[ 11] 18:33:27     -768.860598*       0.0037\n",
      "Defected energy: -1418.415 eV\n"
     ]
    }
   ],
   "source": [
    "defected_geom.rattle(0.01)\n",
    "defected_geom = calc.relax_fmax(defected_geom, \n",
    "                                verbose=True, \n",
    "                                relax_cell=False, \n",
    "                                fmax=0.01, \n",
    "                                timeout=120)\n",
    "defected_energy = defected_geom.get_potential_energy()[0]\n",
    "print(f\"Defected energy: {defected_energy:.3f} eV\")"
   ]
  },
  {
   "cell_type": "code",
   "execution_count": 23,
   "metadata": {
    "ExecuteTime": {
     "end_time": "2021-09-28T22:33:35.239559Z",
     "start_time": "2021-09-28T22:33:35.236978Z"
    }
   },
   "outputs": [
    {
     "name": "stdout",
     "output_type": "stream",
     "text": [
      "Vacancy energy: 3.228 eV\n"
     ]
    }
   ],
   "source": [
    "vacancy_energy = (defected_energy - (pristine_energy * len(defected_geom)))\n",
    "print(f\"Vacancy energy: {vacancy_energy:.3f} eV\")"
   ]
  },
  {
   "cell_type": "markdown",
   "metadata": {
    "pycharm": {
     "name": "#%% md\n"
    }
   },
   "source": [
    "# Compute surface energies"
   ]
  },
  {
   "cell_type": "code",
   "execution_count": 24,
   "metadata": {
    "ExecuteTime": {
     "end_time": "2021-09-28T22:33:35.256227Z",
     "start_time": "2021-09-28T22:33:35.240688Z"
    },
    "pycharm": {
     "name": "#%%\n"
    }
   },
   "outputs": [],
   "source": [
    "bulk100 = build.bulk(\"W\", a=a0, cubic=True)\n",
    "bulk100 = supercells.make_supercell(bulk100, np.eye(3) * [4, 4, 3])\n",
    "\n",
    "slab100 = build.bcc100(\n",
    "    \"W\", a=a0, size=(2,2,3), vacuum=15.0, orthogonal=True)\n",
    "slab110 = build.bcc110(\n",
    "    \"W\", a=a0, size=(2,2,3), vacuum=15.0, orthogonal=True)\n",
    "slab111 = build.bcc111(\n",
    "    \"W\", a=a0, size=(2,2,3), vacuum=15.0, orthogonal=True)\n",
    "\n",
    "bulk100.calc = calc\n",
    "slab100.calc = calc\n",
    "slab110.calc = calc\n",
    "slab111.calc = calc"
   ]
  },
  {
   "cell_type": "code",
   "execution_count": 25,
   "metadata": {
    "ExecuteTime": {
     "end_time": "2021-09-28T22:33:35.408162Z",
     "start_time": "2021-09-28T22:33:35.257616Z"
    },
    "pycharm": {
     "name": "#%%\n"
    },
    "scrolled": true
   },
   "outputs": [
    {
     "name": "stdout",
     "output_type": "stream",
     "text": [
      "100 Surface Energy: 0.233 eV\n",
      "110 Surface Energy: 0.201 eV\n",
      "111 Surface Energy: 0.225 eV\n"
     ]
    }
   ],
   "source": [
    "# Evaluate energies\n",
    "e100 = bulk100.get_potential_energy(force_consistent=True) / 8\n",
    "s100 = slab100.get_potential_energy(force_consistent=True)\n",
    "s110 = slab110.get_potential_energy(force_consistent=True)\n",
    "s111 = slab111.get_potential_energy(force_consistent=True)\n",
    "# Get surface area\n",
    "area100 = np.linalg.norm(np.cross(*slab100.get_cell().array[:2]), 2)\n",
    "area110 = np.linalg.norm(np.cross(*slab110.get_cell().array[:2]), 2)\n",
    "area111 = np.linalg.norm(np.cross(*slab111.get_cell().array[:2]), 2)\n",
    "# Normalize energies\n",
    "energy100 = (s100 - e100)/area100/2\n",
    "energy110 = (s110 - e100)/area110/2\n",
    "energy111 = (s111 - e100)/area111/2\n",
    "print(f\"100 Surface Energy: {energy100:.3f} eV\")\n",
    "print(f\"110 Surface Energy: {energy110:.3f} eV\")\n",
    "print(f\"111 Surface Energy: {energy111:.3f} eV\")"
   ]
  }
 ],
 "metadata": {
  "kernelspec": {
   "display_name": "Python 3",
   "language": "python",
   "name": "python3"
  },
  "language_info": {
   "codemirror_mode": {
    "name": "ipython",
    "version": 3
   },
   "file_extension": ".py",
   "mimetype": "text/x-python",
   "name": "python",
   "nbconvert_exporter": "python",
   "pygments_lexer": "ipython3",
   "version": "3.8.5"
  },
  "toc": {
   "base_numbering": 1,
   "nav_menu": {},
   "number_sections": true,
   "sideBar": true,
   "skip_h1_title": false,
   "title_cell": "Table of Contents",
   "title_sidebar": "Contents",
   "toc_cell": false,
   "toc_position": {},
   "toc_section_display": true,
   "toc_window_display": false
  }
 },
 "nbformat": 4,
 "nbformat_minor": 1
}
