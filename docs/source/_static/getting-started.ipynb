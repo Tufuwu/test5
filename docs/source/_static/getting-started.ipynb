{
 "cells": [
  {
   "cell_type": "markdown",
   "metadata": {},
   "source": [
    "## Import data"
   ]
  },
  {
   "cell_type": "code",
   "execution_count": 1,
   "metadata": {},
   "outputs": [],
   "source": [
    "from impedance import preprocessing\n",
    "\n",
    "# Load data from the example EIS result\n",
    "frequencies, Z = preprocessing.readCSV('./exampleData.csv')\n",
    "\n",
    "# keep only the impedance data in the first quandrant\n",
    "frequencies, Z = preprocessing.ignoreBelowX(frequencies, Z)"
   ]
  },
  {
   "cell_type": "markdown",
   "metadata": {},
   "source": [
    "## Define impedance model"
   ]
  },
  {
   "cell_type": "code",
   "execution_count": 2,
   "metadata": {},
   "outputs": [],
   "source": [
    "from impedance.models.circuits import CustomCircuit\n",
    "\n",
    "initial_guess = [.01, .01, 100, .01, .05, 100, 1]\n",
    "circuit = CustomCircuit('R0-p(R1,C1)-p(R2-Wo1,C2)', initial_guess=initial_guess)"
   ]
  },
  {
   "cell_type": "markdown",
   "metadata": {},
   "source": [
    "## Fit the impedance model to data"
   ]
  },
  {
   "cell_type": "code",
   "execution_count": 3,
   "metadata": {},
   "outputs": [
    {
     "name": "stdout",
     "output_type": "stream",
     "text": [
      "\n",
      "Circuit string: R0-p(R1,C1)-p(R2-Wo1,C2)\n",
      "Fit: True\n",
      "\n",
      "Initial guesses:\n",
      "     R0 = 1.00e-02 [Ohm]\n",
      "     R1 = 1.00e-02 [Ohm]\n",
      "     C1 = 1.00e+02 [F]\n",
      "     R2 = 1.00e-02 [Ohm]\n",
      "  Wo1_0 = 5.00e-02 [Ohm]\n",
      "  Wo1_1 = 1.00e+02 [sec]\n",
      "     C2 = 1.00e+00 [F]\n",
      "\n",
      "Fit parameters:\n",
      "     R0 = 1.65e-02  (+/- 1.54e-04) [Ohm]\n",
      "     R1 = 8.68e-03  (+/- 1.91e-04) [Ohm]\n",
      "     C1 = 3.32e+00  (+/- 1.90e-01) [F]\n",
      "     R2 = 5.39e-03  (+/- 2.06e-04) [Ohm]\n",
      "  Wo1_0 = 6.31e-02  (+/- 1.94e-03) [Ohm]\n",
      "  Wo1_1 = 2.33e+02  (+/- 1.62e+01) [sec]\n",
      "     C2 = 2.20e-01  (+/- 1.75e-02) [F]\n",
      "\n"
     ]
    }
   ],
   "source": [
    "circuit.fit(frequencies, Z)\n",
    "\n",
    "print(circuit)"
   ]
  },
  {
   "cell_type": "markdown",
   "metadata": {},
   "source": [
    "## Analyze/Visualize the results"
   ]
  },
  {
   "cell_type": "code",
   "execution_count": 4,
   "metadata": {},
   "outputs": [],
   "source": [
    "Z_fit = circuit.predict(frequencies)"
   ]
  },
  {
   "cell_type": "code",
   "execution_count": 5,
   "metadata": {},
   "outputs": [
    {
     "data": {
      "image/png": "[encoded data removed]",
      "text/plain": [
       "<Figure size 432x288 with 1 Axes>"
      ]
     },
     "metadata": {
      "needs_background": "light"
     },
     "output_type": "display_data"
    }
   ],
   "source": [
    "import matplotlib.pyplot as plt\n",
    "from impedance.visualization import plot_nyquist\n",
    "\n",
    "fig, ax = plt.subplots()\n",
    "plot_nyquist(ax, Z, fmt='o')\n",
    "plot_nyquist(ax, Z_fit, fmt='-')\n",
    "\n",
    "plt.legend(['Data', 'Fit'])\n",
    "plt.show()"
   ]
  },
  {
   "cell_type": "code",
   "execution_count": 6,
   "metadata": {},
   "outputs": [],
   "source": [
    "fig.savefig('example_fit_fig.png', dpi=300, bbox_inches='tight')"
   ]
  }
 ],
 "metadata": {
  "kernelspec": {
   "display_name": "Python 3",
   "language": "python",
   "name": "python3"
  },
  "language_info": {
   "codemirror_mode": {
    "name": "ipython",
    "version": 3
   },
   "file_extension": ".py",
   "mimetype": "text/x-python",
   "name": "python",
   "nbconvert_exporter": "python",
   "pygments_lexer": "ipython3",
   "version": "3.8.2"
  }
 },
 "nbformat": 4,
 "nbformat_minor": 2
}
