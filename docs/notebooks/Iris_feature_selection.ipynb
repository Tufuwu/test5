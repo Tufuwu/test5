{
 "cells": [
  {
   "cell_type": "markdown",
   "metadata": {},
   "source": [
    "# Iris Feature Selection"
   ]
  },
  {
   "cell_type": "code",
   "execution_count": null,
   "metadata": {
    "pycharm": {
     "is_executing": true
    }
   },
   "outputs": [],
   "source": [
    "import matplotlib.pyplot as plt\n",
    "from sklearn_genetic import GAFeatureSelectionCV\n",
    "from sklearn_genetic.plots import plot_fitness_evolution\n",
    "from sklearn.model_selection import train_test_split\n",
    "from sklearn.svm import SVC\n",
    "from sklearn.datasets import load_iris\n",
    "from sklearn.metrics import accuracy_score\n",
    "import numpy as np\n"
   ]
  },
  {
   "cell_type": "markdown",
   "metadata": {},
   "source": [
    "### Import the data and split it in train and test sets\n",
    "Random noise is added to simulate useless variables\n"
   ]
  },
  {
   "cell_type": "code",
   "execution_count": 2,
   "metadata": {},
   "outputs": [
    {
     "data": {
      "text/plain": [
       "(150, 14)"
      ]
     },
     "execution_count": 2,
     "metadata": {},
     "output_type": "execute_result"
    }
   ],
   "source": [
    "data = load_iris()\n",
    "X, y = data[\"data\"], data[\"target\"]\n",
    "\n",
    "noise = np.random.uniform(0, 10, size=(X.shape[0], 10))\n",
    "\n",
    "X = np.hstack((X, noise))\n",
    "X.shape"
   ]
  },
  {
   "cell_type": "markdown",
   "metadata": {},
   "source": [
    "### Split the training and test data"
   ]
  },
  {
   "cell_type": "code",
   "execution_count": 3,
   "metadata": {},
   "outputs": [],
   "source": [
    "X_train, X_test, y_train, y_test = train_test_split(X, y, test_size=0.33, random_state=0)"
   ]
  },
  {
   "cell_type": "markdown",
   "metadata": {},
   "source": [
    "### Define the GAFeatureSelectionCV options\n"
   ]
  },
  {
   "cell_type": "code",
   "execution_count": 4,
   "metadata": {},
   "outputs": [],
   "source": [
    "clf = SVC(gamma='auto')\n",
    "\n",
    "evolved_estimator = GAFeatureSelectionCV(\n",
    "    estimator=clf,\n",
    "    cv=3,\n",
    "    scoring=\"accuracy\",\n",
    "    population_size=30,\n",
    "    generations=20,\n",
    "    n_jobs=-1,\n",
    "    verbose=True,\n",
    "    keep_top_k=2,\n",
    "    elitism=True,\n",
    ")"
   ]
  },
  {
   "cell_type": "markdown",
   "metadata": {},
   "source": [
    "### Fit the model and see some results"
   ]
  },
  {
   "cell_type": "code",
   "execution_count": 5,
   "metadata": {},
   "outputs": [
    {
     "name": "stdout",
     "output_type": "stream",
     "text": [
      "gen\tnevals\tfitness \tfitness_std\tfitness_max\tfitness_min\n",
      "0  \t30    \t0.550444\t0.153446   \t0.86       \t0.293333   \n",
      "1  \t60    \t0.636889\t0.119365   \t0.86       \t0.473333   \n",
      "2  \t60    \t0.698667\t0.11242    \t0.873333   \t0.46       \n",
      "3  \t60    \t0.707556\t0.103876   \t0.873333   \t0.486667   \n",
      "4  \t60    \t0.723556\t0.144086   \t0.9        \t0.366667   \n",
      "5  \t60    \t0.745556\t0.152637   \t0.913333   \t0.366667   \n",
      "6  \t60    \t0.792889\t0.108402   \t0.873333   \t0.513333   \n",
      "7  \t60    \t0.749111\t0.16456    \t0.873333   \t0.413333   \n",
      "8  \t60    \t0.728889\t0.179747   \t0.966667   \t0.373333   \n",
      "9  \t60    \t0.728222\t0.158994   \t0.893333   \t0.42       \n",
      "10 \t60    \t0.785556\t0.134892   \t0.94       \t0.48       \n",
      "11 \t60    \t0.733556\t0.175942   \t0.94       \t0.44       \n",
      "12 \t60    \t0.784889\t0.150554   \t0.94       \t0.413333   \n",
      "13 \t60    \t0.818444\t0.148101   \t0.966667   \t0.413333   \n",
      "14 \t60    \t0.871778\t0.116272   \t0.966667   \t0.453333   \n",
      "15 \t60    \t0.801556\t0.184163   \t0.966667   \t0.386667   \n",
      "16 \t60    \t0.810222\t0.163994   \t0.966667   \t0.393333   \n",
      "17 \t60    \t0.814222\t0.148949   \t0.966667   \t0.44       \n",
      "18 \t60    \t0.72    \t0.182525   \t0.966667   \t0.366667   \n",
      "19 \t60    \t0.783556\t0.156269   \t0.966667   \t0.42       \n",
      "20 \t60    \t0.803778\t0.146694   \t0.966667   \t0.486667   \n"
     ]
    }
   ],
   "source": [
    "evolved_estimator.fit(X, y)\n",
    "features = evolved_estimator.support_\n",
    "\n",
    "# Predict only with the subset of selected features\n",
    "y_predict_ga = evolved_estimator.predict(X_test)\n",
    "accuracy = accuracy_score(y_test, y_predict_ga)"
   ]
  },
  {
   "cell_type": "code",
   "execution_count": 6,
   "metadata": {},
   "outputs": [
    {
     "name": "stdout",
     "output_type": "stream",
     "text": [
      "[False False  True  True False False False False False False False False\n",
      " False False]\n",
      "accuracy score:  0.96\n"
     ]
    }
   ],
   "source": [
    "#Best features found\n",
    "print(evolved_estimator.support_)\n",
    "print(\"accuracy score: \", \"{:.2f}\".format(accuracy))"
   ]
  },
  {
   "cell_type": "code",
   "execution_count": 7,
   "metadata": {},
   "outputs": [
    {
     "data": {
      "image/png": "[encoded data removed]",
      "text/plain": [
       "<Figure size 432x288 with 1 Axes>"
      ]
     },
     "metadata": {
      "needs_background": "light"
     },
     "output_type": "display_data"
    }
   ],
   "source": [
    "plot = plot_fitness_evolution(evolved_estimator, metric=\"fitness\")\n",
    "plt.show()"
   ]
  },
  {
   "cell_type": "code",
   "execution_count": 8,
   "metadata": {},
   "outputs": [
    {
     "data": {
      "text/plain": [
       "array([[5.1, 2.4],\n",
       "       [4. , 1. ],\n",
       "       [1.4, 0.2],\n",
       "       [6.3, 1.8],\n",
       "       [1.5, 0.2],\n",
       "       [6. , 2.5],\n",
       "       [1.3, 0.3],\n",
       "       [4.7, 1.5],\n",
       "       [4.8, 1.4],\n",
       "       [4. , 1.3],\n",
       "       [5.6, 1.4],\n",
       "       [4.5, 1.5],\n",
       "       [4.7, 1.2],\n",
       "       [4.6, 1.5],\n",
       "       [4.7, 1.4],\n",
       "       [1.4, 0.1],\n",
       "       [4.5, 1.5],\n",
       "       [4.4, 1.2],\n",
       "       [1.4, 0.3],\n",
       "       [1.3, 0.4],\n",
       "       [4.9, 2. ],\n",
       "       [4.5, 1.5],\n",
       "       [1.9, 0.2],\n",
       "       [1.4, 0.2],\n",
       "       [4.8, 1.8],\n",
       "       [1. , 0.2],\n",
       "       [1.9, 0.4],\n",
       "       [4.3, 1.3],\n",
       "       [3.3, 1. ],\n",
       "       [1.6, 0.4],\n",
       "       [5.5, 1.8],\n",
       "       [4.5, 1.5],\n",
       "       [1.5, 0.2],\n",
       "       [4.9, 1.8],\n",
       "       [5.6, 2.2],\n",
       "       [3.9, 1.4],\n",
       "       [1.7, 0.3],\n",
       "       [5.1, 1.6],\n",
       "       [4.2, 1.5],\n",
       "       [4. , 1.2],\n",
       "       [5.5, 2.1],\n",
       "       [1.3, 0.2],\n",
       "       [5.1, 2.3],\n",
       "       [1.6, 0.6],\n",
       "       [1.5, 0.2],\n",
       "       [3.5, 1. ],\n",
       "       [5.5, 1.8],\n",
       "       [5.7, 2.5],\n",
       "       [5. , 1.5],\n",
       "       [5.8, 1.8]])"
      ]
     },
     "execution_count": 8,
     "metadata": {},
     "output_type": "execute_result"
    }
   ],
   "source": [
    "# Convert the original input to the selected input\n",
    "evolved_estimator.transform(X_test)"
   ]
  },
  {
   "cell_type": "code",
   "execution_count": null,
   "metadata": {},
   "outputs": [],
   "source": []
  }
 ],
 "metadata": {
  "kernelspec": {
   "display_name": "Python 3 (ipykernel)",
   "language": "python",
   "name": "python3"
  },
  "language_info": {
   "codemirror_mode": {
    "name": "ipython",
    "version": 3
   },
   "file_extension": ".py",
   "mimetype": "text/x-python",
   "name": "python",
   "nbconvert_exporter": "python",
   "pygments_lexer": "ipython3",
   "version": "3.9.7"
  }
 },
 "nbformat": 4,
 "nbformat_minor": 1
}
