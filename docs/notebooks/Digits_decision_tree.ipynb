{
 "cells": [
  {
   "cell_type": "markdown",
   "source": [
    "# Digits Classification"
   ],
   "metadata": {
    "collapsed": false
   }
  },
  {
   "cell_type": "code",
   "execution_count": 1,
   "metadata": {
    "collapsed": true
   },
   "outputs": [],
   "source": [
    "from sklearn_genetic import GASearchCV\n",
    "from sklearn_genetic.space import Categorical, Integer, Continuous\n",
    "from sklearn.model_selection import train_test_split, StratifiedKFold\n",
    "from sklearn.tree import DecisionTreeClassifier\n",
    "from sklearn.datasets import load_digits\n",
    "from sklearn.metrics import accuracy_score\n",
    "from sklearn_genetic.callbacks import DeltaThreshold, TimerStopping"
   ]
  },
  {
   "cell_type": "markdown",
   "source": [
    "### Import the data and split it in train and test sets"
   ],
   "metadata": {
    "collapsed": false,
    "pycharm": {
     "name": "#%% md\n"
    }
   }
  },
  {
   "cell_type": "code",
   "execution_count": 2,
   "outputs": [],
   "source": [
    "data = load_digits()\n",
    "label_names = data[\"target_names\"]\n",
    "y = data[\"target\"]\n",
    "X = data[\"data\"]\n",
    "\n",
    "X_train, X_test, y_train, y_test = train_test_split(X, y, test_size=0.33, random_state=42)"
   ],
   "metadata": {
    "collapsed": false,
    "pycharm": {
     "name": "#%%\n"
    }
   }
  },
  {
   "cell_type": "markdown",
   "source": [
    "### Define the classifier to tune and the param grid"
   ],
   "metadata": {
    "collapsed": false
   }
  },
  {
   "cell_type": "code",
   "execution_count": 3,
   "outputs": [],
   "source": [
    "clf = DecisionTreeClassifier()\n",
    "\n",
    "params_grid = {\n",
    "    \"min_weight_fraction_leaf\": Continuous(0, 0.5),\n",
    "    \"criterion\": Categorical([\"gini\", \"entropy\"]),\n",
    "    \"max_depth\": Integer(2, 20),\n",
    "    \"max_leaf_nodes\": Integer(2, 30),\n",
    "}"
   ],
   "metadata": {
    "collapsed": false,
    "pycharm": {
     "name": "#%%\n"
    }
   }
  },
  {
   "cell_type": "markdown",
   "source": [
    "### Create the CV strategy and optionally some callbacks"
   ],
   "metadata": {
    "collapsed": false
   }
  },
  {
   "cell_type": "code",
   "execution_count": 4,
   "outputs": [],
   "source": [
    "cv = StratifiedKFold(n_splits=3, shuffle=True)\n",
    "\n",
    "delta_callback = DeltaThreshold(threshold=0.001, metric=\"fitness\")\n",
    "timer_callback = TimerStopping(total_seconds=60)\n",
    "\n",
    "callbacks = [delta_callback, timer_callback]"
   ],
   "metadata": {
    "collapsed": false,
    "pycharm": {
     "name": "#%%\n"
    }
   }
  },
  {
   "cell_type": "markdown",
   "source": [
    "### Define the GASearchCV options"
   ],
   "metadata": {
    "collapsed": false
   }
  },
  {
   "cell_type": "code",
   "execution_count": 5,
   "outputs": [],
   "source": [
    "evolved_estimator = GASearchCV(\n",
    "    clf,\n",
    "    cv=cv,\n",
    "    scoring=\"accuracy\",\n",
    "    population_size=16,\n",
    "    generations=30,\n",
    "    crossover_probability=0.9,\n",
    "    mutation_probability=0.05,\n",
    "    param_grid=params_grid,\n",
    "    algorithm=\"eaSimple\",\n",
    "    n_jobs=-1,\n",
    "    verbose=True)"
   ],
   "metadata": {
    "collapsed": false,
    "pycharm": {
     "name": "#%%\n"
    }
   }
  },
  {
   "cell_type": "markdown",
   "source": [
    "### Fit the model and see some results"
   ],
   "metadata": {
    "collapsed": false
   }
  },
  {
   "cell_type": "code",
   "execution_count": 6,
   "outputs": [
    {
     "data": {
      "text/plain": "  0%|          | 0/31 [00:00<?, ?it/s]",
      "application/vnd.jupyter.widget-view+json": {
       "version_major": 2,
       "version_minor": 0,
       "model_id": "89a66e843f4745ad9bdda96f44440394"
      }
     },
     "metadata": {},
     "output_type": "display_data"
    },
    {
     "name": "stdout",
     "output_type": "stream",
     "text": [
      "gen\tnevals\tfitness \tfitness_std\tfitness_max\tfitness_min\n",
      "0  \t16    \t0.363259\t0.136399   \t0.639235   \t0.189526   \n",
      "1  \t14    \t0.450592\t0.119266   \t0.620116   \t0.27847    \n",
      "2  \t12    \t0.54707 \t0.1376     \t0.75478    \t0.26517    \n",
      "3  \t12    \t0.625052\t0.113433   \t0.768911   \t0.346633   \n",
      "4  \t16    \t0.667654\t0.11493    \t0.755611   \t0.400665   \n",
      "5  \t14    \t0.727504\t0.0156019  \t0.759767   \t0.689111   \n",
      "6  \t16    \t0.71462 \t0.0486477  \t0.758105   \t0.607648   \n",
      "7  \t14    \t0.701164\t0.132646   \t0.764755   \t0.190357   \n",
      "8  \t12    \t0.735661\t0.0115332  \t0.758936   \t0.715711   \n",
      "9  \t16    \t0.735141\t0.00947264 \t0.748961   \t0.704073   \n",
      "INFO: DeltaThreshold callback met its criteria\n",
      "INFO: Stopping the algorithm\n"
     ]
    }
   ],
   "source": [
    "evolved_estimator.fit(X_train, y_train, callbacks=callbacks)\n",
    "y_predict_ga = evolved_estimator.predict(X_test)\n",
    "accuracy = accuracy_score(y_test, y_predict_ga)"
   ],
   "metadata": {
    "collapsed": false,
    "pycharm": {
     "name": "#%%\n"
    }
   }
  },
  {
   "cell_type": "code",
   "execution_count": 7,
   "outputs": [
    {
     "name": "stdout",
     "output_type": "stream",
     "text": [
      "{'min_weight_fraction_leaf': 0.027793264515431237, 'criterion': 'entropy', 'max_depth': 17, 'max_leaf_nodes': 26}\n",
      "accuracy score:  0.77\n"
     ]
    }
   ],
   "source": [
    "print(evolved_estimator.best_params_)\n",
    "print(\"accuracy score: \", \"{:.2f}\".format(accuracy))"
   ],
   "metadata": {
    "collapsed": false,
    "pycharm": {
     "name": "#%%\n"
    }
   }
  }
 ],
 "metadata": {
  "kernelspec": {
   "display_name": "Python 3",
   "language": "python",
   "name": "python3"
  },
  "language_info": {
   "codemirror_mode": {
    "name": "ipython",
    "version": 2
   },
   "file_extension": ".py",
   "mimetype": "text/x-python",
   "name": "python",
   "nbconvert_exporter": "python",
   "pygments_lexer": "ipython2",
   "version": "2.7.6"
  }
 },
 "nbformat": 4,
 "nbformat_minor": 0
}