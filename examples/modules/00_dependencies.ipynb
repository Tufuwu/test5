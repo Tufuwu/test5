{
 "cells": [
  {
   "cell_type": "markdown",
   "id": "legendary-obligation",
   "metadata": {
    "ExecuteTime": {
     "end_time": "2021-09-14T15:22:26.141364Z",
     "start_time": "2021-09-14T15:22:26.139431Z"
    }
   },
   "source": [
    "# matplotlib\n",
    "[Matplotlib](https://matplotlib.org/) is a library for visualization in python."
   ]
  },
  {
   "cell_type": "code",
   "execution_count": 1,
   "id": "ideal-fifteen",
   "metadata": {
    "ExecuteTime": {
     "end_time": "2021-09-14T15:47:22.693205Z",
     "start_time": "2021-09-14T15:47:22.387591Z"
    }
   },
   "outputs": [
    {
     "data": {
      "image/png": "[encoded data removed]",
      "text/plain": [
       "<Figure size 252x252 with 1 Axes>"
      ]
     },
     "metadata": {
      "needs_background": "light"
     },
     "output_type": "display_data"
    }
   ],
   "source": [
    "import matplotlib.pyplot as plt\n",
    "\n",
    "# Create canvas\n",
    "plt.figure(figsize=(3.5, 3.5))\n",
    "# plot points\n",
    "x = [0.0, 0.4, 0.9]\n",
    "y = [0.0, 0.75, 0.3]\n",
    "plt.scatter(x, y, marker=\"s\", color=[\"orange\", \"blue\", \"violet\"])\n",
    "# display canvas\n",
    "plt.show()"
   ]
  },
  {
   "cell_type": "markdown",
   "id": "forbidden-hawaiian",
   "metadata": {},
   "source": [
    "# NumPy\n",
    "\n",
    "NumPy is used extensively to manipulate vectors and arrays in the UF3 framework. The [Numpy basics page](https://numpy.org/doc/stable/user/absolute_beginners.html) is a great reference for users transitioning from other programming languages. The [NumPy fundamentals page](https://numpy.org/doc/stable/user/basics.html) is an excellent resource for understanding indexing and broadcasting, concepts that appear frequently in the UF3 code."
   ]
  },
  {
   "cell_type": "code",
   "execution_count": 2,
   "id": "integrated-prairie",
   "metadata": {
    "ExecuteTime": {
     "end_time": "2021-09-14T15:47:22.698802Z",
     "start_time": "2021-09-14T15:47:22.694672Z"
    }
   },
   "outputs": [
    {
     "name": "stdout",
     "output_type": "stream",
     "text": [
      "Coordinates of OH2 aligned on x-axis\n",
      "[[ 0.          0.          0.        ]\n",
      " [ 0.958       0.          0.        ]\n",
      " [-0.23986404  0.92748544  0.        ]]\n"
     ]
    }
   ],
   "source": [
    "import numpy as np\n",
    "\n",
    "# water molecule coordinates\n",
    "length = 0.958  # O-H length\n",
    "angle = np.deg2rad(104.5)  # H-O-H bond angle\n",
    "coordinates_list = [[0.0, 0.0, 0.0],  # oxygen\n",
    "                    [1.0, 0.0, 0.0],   # hydrogen\n",
    "                    [np.cos(angle), np.sin(angle), 0.0]]\n",
    "coordinates = np.array(coordinates_list) \n",
    "coordinates *= length\n",
    "\n",
    "print(\"Coordinates of OH2 aligned on x-axis\")\n",
    "print(coordinates)"
   ]
  },
  {
   "cell_type": "code",
   "execution_count": 3,
   "id": "sudden-parliament",
   "metadata": {
    "ExecuteTime": {
     "end_time": "2021-09-14T15:47:22.802202Z",
     "start_time": "2021-09-14T15:47:22.700813Z"
    }
   },
   "outputs": [
    {
     "data": {
      "image/png": "[encoded data removed]",
      "text/plain": [
       "<Figure size 252x252 with 1 Axes>"
      ]
     },
     "metadata": {
      "needs_background": "light"
     },
     "output_type": "display_data"
    }
   ],
   "source": [
    "plt.figure(figsize=(3.5, 3.5))\n",
    "plt.scatter(coordinates[:, 0], coordinates[:, 1], \n",
    "            s=100, color=[\"orange\", \"blue\", \"blue\"])\n",
    "plt.xlim(-1, 1)\n",
    "plt.ylim(-1, 1)\n",
    "plt.show()"
   ]
  },
  {
   "cell_type": "code",
   "execution_count": 4,
   "id": "treated-peoples",
   "metadata": {
    "ExecuteTime": {
     "end_time": "2021-09-14T15:47:22.807603Z",
     "start_time": "2021-09-14T15:47:22.803653Z"
    }
   },
   "outputs": [
    {
     "name": "stdout",
     "output_type": "stream",
     "text": [
      "Coordinates of OH2, reoriented\n",
      "[[ 0.          0.          0.        ]\n",
      " [ 0.58650415 -0.75748061  0.        ]\n",
      " [ 0.58650415  0.75748061  0.        ]]\n"
     ]
    }
   ],
   "source": [
    "# Rotation about z-axis with rotation matrix\n",
    "rotation_matrix = np.array([[np.cos(angle/2), -np.sin(angle/2), 0.0],\n",
    "                            [np.sin(angle/2), np.cos(angle/2), 0.0],\n",
    "                            [0.0, 0.0, 1.0]])\n",
    "new_coordinates = np.dot(coordinates, rotation_matrix)\n",
    "\n",
    "print(\"Coordinates of OH2, reoriented\")\n",
    "print(new_coordinates)"
   ]
  },
  {
   "cell_type": "code",
   "execution_count": 5,
   "id": "sticky-monitor",
   "metadata": {
    "ExecuteTime": {
     "end_time": "2021-09-14T15:47:22.888925Z",
     "start_time": "2021-09-14T15:47:22.809076Z"
    }
   },
   "outputs": [
    {
     "data": {
      "image/png": "[encoded data removed]",
      "text/plain": [
       "<Figure size 252x252 with 1 Axes>"
      ]
     },
     "metadata": {
      "needs_background": "light"
     },
     "output_type": "display_data"
    }
   ],
   "source": [
    "plt.figure(figsize=(3.5, 3.5))\n",
    "plt.scatter(new_coordinates[:, 0], new_coordinates[:, 1], \n",
    "            s=100, color=[\"orange\", \"blue\", \"blue\"])\n",
    "plt.xlim(-1, 1)\n",
    "plt.ylim(-1, 1)\n",
    "plt.show()"
   ]
  },
  {
   "cell_type": "markdown",
   "id": "waiting-rapid",
   "metadata": {
    "ExecuteTime": {
     "end_time": "2021-09-14T14:00:10.092796Z",
     "start_time": "2021-09-14T14:00:10.087949Z"
    }
   },
   "source": [
    "# ASE\n",
    "The UF3 framework uses the Atomic Simulation Environment (ASE) to define, write, and read atomic configurations."
   ]
  },
  {
   "cell_type": "markdown",
   "id": "thrown-family",
   "metadata": {},
   "source": [
    "## ase.Atoms\n",
    "\n",
    "The [ase.Atoms](https://wiki.fysik.dtu.dk/ase/ase/atoms.html) class is used to define atomic configurations."
   ]
  },
  {
   "cell_type": "code",
   "execution_count": 6,
   "id": "formal-composition",
   "metadata": {
    "ExecuteTime": {
     "end_time": "2021-09-14T15:47:22.927938Z",
     "start_time": "2021-09-14T15:47:22.890109Z"
    }
   },
   "outputs": [
    {
     "name": "stdout",
     "output_type": "stream",
     "text": [
      "Atoms(symbols='CaTiO3', pbc=True, cell=[3.889, 3.889, 3.889])\n"
     ]
    }
   ],
   "source": [
    "import ase\n",
    "# elements of atoms in system\n",
    "composition = [\"Ca\", \"Ti\", \"O\", \"O\", \"O\"]\n",
    "# lattice cell for repeating unit cell\n",
    "lattice_constant = 3.889\n",
    "lattice_vectors = [[lattice_constant, 0.0, 0.0],\n",
    "                   [0.0, lattice_constant, 0.0],\n",
    "                   [0.0, 0.0, lattice_constant]]\n",
    "# atom positions (cartesian coordinates)\n",
    "frac_coordinates = [[0.5, 0.5, 0.5],  # Ca\n",
    "                    [0.0, 0.0, 0.0],  # Ti\n",
    "                    [0.0, 0.5, 0.0],  # O\n",
    "                    [0.0, 0.0, 0.5],  # O\n",
    "                    [0.5, 0.0, 0.0],  # O\n",
    "                   ]\n",
    "# periodic in x, y, and z directions\n",
    "periodicity = [True, True, True]\n",
    "\n",
    "geometry = ase.Atoms(symbols=composition,\n",
    "                     scaled_positions=frac_coordinates,\n",
    "                     cell=lattice_vectors,\n",
    "                     pbc=periodicity)\n",
    "print(geometry)"
   ]
  },
  {
   "cell_type": "code",
   "execution_count": 7,
   "id": "skilled-drinking",
   "metadata": {
    "ExecuteTime": {
     "end_time": "2021-09-14T15:47:22.932537Z",
     "start_time": "2021-09-14T15:47:22.929088Z"
    }
   },
   "outputs": [
    {
     "name": "stdout",
     "output_type": "stream",
     "text": [
      "List of atomic numbers: [20 22  8  8  8]\n",
      "Ca coordinate: [1.9445 1.9445 1.9445]\n",
      "Unit cell volume: 58.81848436899998 cubic angstroms\n"
     ]
    }
   ],
   "source": [
    "numbers = geometry.get_atomic_numbers()\n",
    "cartesian_positions = geometry.get_positions()\n",
    "volume = geometry.get_volume()\n",
    "\n",
    "print(\"List of atomic numbers:\", numbers)\n",
    "print(\"Ca coordinate:\", cartesian_positions[0])\n",
    "print(f\"Unit cell volume: {volume} cubic angstroms\")"
   ]
  },
  {
   "cell_type": "markdown",
   "id": "third-privacy",
   "metadata": {},
   "source": [
    "## ase.build\n",
    "[ase.build](https://wiki.fysik.dtu.dk/ase/ase/build/build.html) is a convenient module for creating Atoms from common crystal structures, surfaces, and molecule names."
   ]
  },
  {
   "cell_type": "code",
   "execution_count": 8,
   "id": "optional-gibraltar",
   "metadata": {
    "ExecuteTime": {
     "end_time": "2021-09-14T15:47:22.946095Z",
     "start_time": "2021-09-14T15:47:22.934412Z"
    }
   },
   "outputs": [
    {
     "name": "stdout",
     "output_type": "stream",
     "text": [
      "Atoms(symbols='ZnSZnS', pbc=True, cell=[[3.848, 0.0, 0.0], [-1.924, 3.3324657537625195, 0.0], [0.0, 0.0, 6.283757686819779]])\n"
     ]
    }
   ],
   "source": [
    "from ase import build as ase_build\n",
    "\n",
    "# Bulk wurtzite\n",
    "name = \"ZnS\"\n",
    "lattice_constant = 3.848\n",
    "geometry = ase_build.bulk(name,\n",
    "                          crystalstructure=\"wurtzite\",\n",
    "                          a=lattice_constant)\n",
    "print(geometry)"
   ]
  },
  {
   "cell_type": "code",
   "execution_count": 9,
   "id": "military-hamburg",
   "metadata": {
    "ExecuteTime": {
     "end_time": "2021-09-14T15:47:22.950573Z",
     "start_time": "2021-09-14T15:47:22.947330Z"
    }
   },
   "outputs": [
    {
     "name": "stdout",
     "output_type": "stream",
     "text": [
      "Atoms(symbols='Al18', pbc=[True, True, False], cell=[[6.05849090120634, 0.0, 0.0], [3.02924545060317, 5.246807029041566, 0.0], [0.0, 0.0, 0.0]], tags=...)\n"
     ]
    }
   ],
   "source": [
    "# Aluminum (111) surface\n",
    "name = \"Al\"\n",
    "lattice_constant = 2.856\n",
    "geometry = ase_build.fcc111(name,\n",
    "                            size=(3, 3, 2),\n",
    "                            a=lattice_constant)\n",
    "print(geometry)"
   ]
  }
 ],
 "metadata": {
  "kernelspec": {
   "display_name": "Python 3 (ipykernel)",
   "language": "python",
   "name": "python3"
  },
  "language_info": {
   "codemirror_mode": {
    "name": "ipython",
    "version": 3
   },
   "file_extension": ".py",
   "mimetype": "text/x-python",
   "name": "python",
   "nbconvert_exporter": "python",
   "pygments_lexer": "ipython3",
   "version": "3.7.11"
  },
  "toc": {
   "base_numbering": 1,
   "nav_menu": {},
   "number_sections": true,
   "sideBar": true,
   "skip_h1_title": false,
   "title_cell": "Table of Contents",
   "title_sidebar": "Contents",
   "toc_cell": false,
   "toc_position": {},
   "toc_section_display": true,
   "toc_window_display": false
  }
 },
 "nbformat": 4,
 "nbformat_minor": 5
}
